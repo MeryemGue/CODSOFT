{
  "nbformat": 4,
  "nbformat_minor": 0,
  "metadata": {
    "colab": {
      "provenance": [],
      "authorship_tag": "ABX9TyOY8HrkFurlXHDytcoXma9G",
      "include_colab_link": true
    },
    "kernelspec": {
      "name": "python3",
      "display_name": "Python 3"
    },
    "language_info": {
      "name": "python"
    }
  },
  "cells": [
    {
      "cell_type": "markdown",
      "metadata": {
        "id": "view-in-github",
        "colab_type": "text"
      },
      "source": [
        "<a href=\"https://colab.research.google.com/github/MeryemGue/CODSOFT/blob/main/RECOMMENDATION_SYSTEM.ipynb\" target=\"_parent\"><img src=\"https://colab.research.google.com/assets/colab-badge.svg\" alt=\"Open In Colab\"/></a>"
      ]
    },
    {
      "cell_type": "code",
      "execution_count": null,
      "metadata": {
        "id": "BoJ-37d_0js4"
      },
      "outputs": [],
      "source": [
        "import pandas as pd\n",
        "from sklearn.feature_extraction.text import TfidfVectorizer\n",
        "from sklearn.metrics.pairwise import linear_kernel\n",
        "\n",
        "# Sample movie dataset\n",
        "movies_data = {\n",
        "    'title': ['The Shawshank Redemption', 'The Godfather', 'The Dark Knight', 'Pulp Fiction', 'Forrest Gump'],\n",
        "    'genre': ['Drama', 'Crime', 'Action', 'Crime', 'Drama'],\n",
        "    'director': ['Frank Darabont', 'Francis Ford Coppola', 'Christopher Nolan', 'Quentin Tarantino', 'Robert Zemeckis'],\n",
        "    'rating': [9.3, 9.2, 9.0, 8.9, 8.8]\n",
        "}\n",
        "\n",
        "# Create a DataFrame\n",
        "movies_df = pd.DataFrame(movies_data)\n",
        "\n",
        "# Define a TF-IDF Vectorizer\n",
        "tfidf_vectorizer = TfidfVectorizer(stop_words='english')\n",
        "\n",
        "# Construct the TF-IDF matrix\n",
        "tfidf_matrix = tfidf_vectorizer.fit_transform(movies_df['genre'] + \" \" + movies_df['director'])\n",
        "\n",
        "# Compute the cosine similarity matrix\n",
        "cosine_sim = linear_kernel(tfidf_matrix, tfidf_matrix)\n",
        "\n",
        "# Function to recommend movies based on similarity\n",
        "def recommend_movies(title, cosine_sim=cosine_sim):\n",
        "    idx = movies_df.loc[movies_df['title'] == title].index[0]\n",
        "    sim_scores = list(enumerate(cosine_sim[idx]))\n",
        "    sim_scores = sorted(sim_scores, key=lambda x: x[1], reverse=True)\n",
        "    sim_scores = sim_scores[1:6]\n",
        "    movie_indices = [i[0] for i in sim_scores]\n",
        "    return movies_df['title'].iloc[movie_indices]\n",
        "\n",
        "# User input for movie title\n",
        "user_input_movie = input(\"Entrez le titre du film : \")\n",
        "\n",
        "# Recommendation based on user input\n",
        "recommended_movies = recommend_movies(user_input_movie)\n",
        "\n",
        "print(\"Recommandations pour le film\", user_input_movie, \":\")\n",
        "print(recommended_movies)\n"
      ]
    }
  ]
}